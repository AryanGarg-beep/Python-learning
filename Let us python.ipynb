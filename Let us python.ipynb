{
 "cells": [
  {
   "cell_type": "code",
   "execution_count": 1,
   "metadata": {},
   "outputs": [
    {
     "name": "stdout",
     "output_type": "stream",
     "text": [
      "<class 'int'>\n"
     ]
    }
   ],
   "source": [
    "a = 25\n",
    "print(type(a))"
   ]
  },
  {
   "cell_type": "code",
   "execution_count": 57,
   "metadata": {},
   "outputs": [
    {
     "name": "stdout",
     "output_type": "stream",
     "text": [
      "<class 'int'>\n"
     ]
    }
   ],
   "source": [
    "a = 231312323432423423294872\n",
    "print(type(a))"
   ]
  },
  {
   "cell_type": "code",
   "execution_count": null,
   "metadata": {},
   "outputs": [],
   "source": [
    "a = 31.4"
   ]
  },
  {
   "cell_type": "code",
   "execution_count": 1,
   "metadata": {},
   "outputs": [
    {
     "name": "stdout",
     "output_type": "stream",
     "text": [
      "25\n",
      "25\n",
      "25\n",
      "25\n"
     ]
    }
   ],
   "source": [
    "a=b=c=e=25\n",
    "print(a)\n",
    "print(b)\n",
    "print(c)\n",
    "print(e)\n"
   ]
  },
  {
   "cell_type": "code",
   "execution_count": 9,
   "metadata": {},
   "outputs": [
    {
     "name": "stdout",
     "output_type": "stream",
     "text": [
      "1\n"
     ]
    }
   ],
   "source": [
    "a=1\n",
    "a**=3\n",
    "print(a)"
   ]
  },
  {
   "cell_type": "code",
   "execution_count": 10,
   "metadata": {},
   "outputs": [
    {
     "data": {
      "text/plain": [
       "40.96"
      ]
     },
     "execution_count": 10,
     "metadata": {},
     "output_type": "execute_result"
    }
   ],
   "source": [
    "1024 * 0.04\n"
   ]
  },
  {
   "cell_type": "code",
   "execution_count": 1,
   "metadata": {},
   "outputs": [
    {
     "name": "stdout",
     "output_type": "stream",
     "text": [
      "140736915114488 140736915114488\n",
      "True\n",
      "140736915115352\n"
     ]
    }
   ],
   "source": [
    "a=3\n",
    "b=3\n",
    "print(id(a),id(b))\n",
    "print(a is b)\n",
    "a=30\n",
    "print(id(a))"
   ]
  },
  {
   "cell_type": "code",
   "execution_count": 5,
   "metadata": {},
   "outputs": [
    {
     "name": "stdout",
     "output_type": "stream",
     "text": [
      "3\n",
      "1253\n",
      "11\n",
      "225\n",
      "13\n",
      "35.0\n",
      "12.53\n",
      "(35+0j)\n",
      "(12.53+3.2j)\n",
      "True\n",
      "True\n",
      "1\n",
      "0\n"
     ]
    }
   ],
   "source": [
    "print(int(3.14)) #float -> int\n",
    "a=int('485')\n",
    "b=int('768')\n",
    "c=a+b\n",
    "print(c)\n",
    "print(int('1011',2))\n",
    "print(int('341',8))\n",
    "print(int('21',6))\n",
    "\n",
    "print(float(35))\n",
    "i = float('4.85')\n",
    "j = float('7.68')\n",
    "k = i+j\n",
    "print(k)\n",
    "\n",
    "print(complex(35))\n",
    "x = complex(4.85,1.1)\n",
    "y = complex(7.68,2.1)\n",
    "z = x+y\n",
    "print(z)\n",
    "\n",
    "print(bool(35))\n",
    "print(bool(1.2))\n",
    "print(int(True))\n",
    "print(int(False))\n"
   ]
  },
  {
   "cell_type": "code",
   "execution_count": 12,
   "metadata": {},
   "outputs": [
    {
     "name": "stdout",
     "output_type": "stream",
     "text": [
      "3.141592653589793 2.718281828459045\n",
      "1.2392336341465238\n",
      "720\n",
      "1.5357\n",
      "0.42898630314951025\n",
      "4.644575595215059\n",
      "1\n",
      "2\n",
      "2\n",
      "-1\n",
      "-2\n",
      "-1\n",
      "(0.5357000000000001, 1.0)\n"
     ]
    }
   ],
   "source": [
    "import math\n",
    "x = 1.5357\n",
    "print(math.pi,math.e)\n",
    "print(math.sqrt(x))\n",
    "print(math.factorial(6)) #factorial always takes an integer value only\n",
    "print(math.fabs(x))\n",
    "print(math.log(x)) #log to base e\n",
    "print(math.exp(x))\n",
    "print(math.trunc(x))\n",
    "print(math.floor(x))\n",
    "print(math.ceil(x))\n",
    "print(math.trunc(-x))\n",
    "print(math.floor(-x))\n",
    "print(math.ceil(-x))\n",
    "print(math.modf(x))"
   ]
  },
  {
   "cell_type": "code",
   "execution_count": 30,
   "metadata": {},
   "outputs": [
    {
     "name": "stdout",
     "output_type": "stream",
     "text": [
      "0.5925635195084006\n",
      "0.3942197718851508\n",
      "49\n"
     ]
    }
   ],
   "source": [
    "import random\n",
    "import datetime\n",
    "#random.seed(datetime.time())\n",
    "print(random.random())\n",
    "print(random.random())\n",
    "print(random.randint(10,100))"
   ]
  },
  {
   "cell_type": "code",
   "execution_count": 31,
   "metadata": {},
   "outputs": [
    {
     "name": "stdout",
     "output_type": "stream",
     "text": [
      "a and b before swapping are 1 and 2\n",
      "a and b are now 2 and 1\n"
     ]
    }
   ],
   "source": [
    "a=1\n",
    "b=2\n",
    "print('a and b before swapping are', a, 'and', b)\n",
    "a,b=b,a\n",
    "print('a and b are now',a,'and',b)\n"
   ]
  },
  {
   "cell_type": "code",
   "execution_count": 38,
   "metadata": {},
   "outputs": [
    {
     "name": "stdout",
     "output_type": "stream",
     "text": [
      "46\n",
      "15\n",
      "41\n",
      "26\n",
      "12\n",
      "\n",
      "43\n",
      "27\n",
      "39\n",
      "19\n",
      "11\n"
     ]
    }
   ],
   "source": [
    "import random\n",
    "import time\n",
    "random.seed(6)\n",
    "for i in range(5):\n",
    "    print(random.randint(10,50))\n",
    "\n",
    "print()\n",
    "t = int(time.time())\n",
    "random.seed(t)\n",
    "for i in range(5):\n",
    "    print(random.randint(10,50))\n"
   ]
  },
  {
   "cell_type": "code",
   "execution_count": 41,
   "metadata": {},
   "outputs": [
    {
     "data": {
      "text/plain": [
       "'0b101110'"
      ]
     },
     "execution_count": 41,
     "metadata": {},
     "output_type": "execute_result"
    }
   ],
   "source": [
    "bin(46)"
   ]
  },
  {
   "cell_type": "code",
   "execution_count": 42,
   "metadata": {},
   "outputs": [
    {
     "name": "stdout",
     "output_type": "stream",
     "text": [
      "--------------------------------------------------\n"
     ]
    }
   ],
   "source": [
    "print('-'*50)"
   ]
  },
  {
   "cell_type": "code",
   "execution_count": 46,
   "metadata": {},
   "outputs": [
    {
     "name": "stdout",
     "output_type": "stream",
     "text": [
      "s h\n",
      "a n\n",
      "enanigan\n",
      "shenan\n",
      "shenan\n",
      "shen\n",
      "shenan\n",
      "shenanigan\n",
      "seaia\n",
      "snin\n",
      "saa\n",
      "shenanigantype\n",
      "shenanwabbite\n"
     ]
    }
   ],
   "source": [
    "s = 'shenanigan'\n",
    "print(s[0],s[1])\n",
    "print(s[4],s[5])\n",
    "print(s[2:])\n",
    "print(s[:6])\n",
    "print(s[:-4])\n",
    "print(s[-10:4])\n",
    "print(s[0:6])\n",
    "print(s[:])\n",
    "print(s[0:10:2])\n",
    "print(s[0:10:3])\n",
    "print(s[0:10:4])\n",
    "g = 'type'\n",
    "a = s+g\n",
    "print(a)\n",
    "t = 'wabbite'\n",
    "b = s[:6]+t\n",
    "print(b)"
   ]
  },
  {
   "cell_type": "code",
   "execution_count": 48,
   "metadata": {},
   "outputs": [
    {
     "name": "stdout",
     "output_type": "stream",
     "text": [
      "Visit Ykanethkar.com For Free Online Courses \n"
     ]
    }
   ],
   "source": [
    "s = 'Visit ykanethkar.com for free online courses'\n",
    "t =''\n",
    "for w in s.split():\n",
    "    t = t + w.capitalize()+' '\n",
    "print(t)"
   ]
  },
  {
   "cell_type": "code",
   "execution_count": 49,
   "metadata": {},
   "outputs": [
    {
     "name": "stdout",
     "output_type": "stream",
     "text": [
      "HumptyDumpty\n",
      "True\n",
      "True\n",
      "False\n",
      "False\n",
      "False\n",
      "True\n",
      "False\n"
     ]
    }
   ],
   "source": [
    "s = 'HumptyDumpty'\n",
    "print(s)\n",
    "print(s.isalpha())\n",
    "print(s.isalnum())\n",
    "print(s.isdigit())\n",
    "print(s.islower())\n",
    "print(s.isupper())\n",
    "print(s.startswith('Hump'))\n",
    "print(s.endswith('Dump'))"
   ]
  },
  {
   "cell_type": "code",
   "execution_count": 61,
   "metadata": {},
   "outputs": [
    {
     "name": "stdout",
     "output_type": "stream",
     "text": [
      "('the', ' ', 'difference between stupidity and genius is that stupidity has its limits')\n",
      "The\n",
      "Difference\n",
      "Between\n",
      "Stupidity\n",
      "And\n",
      "Genius\n",
      "Is\n",
      "That\n",
      "Stupidity\n",
      "Has\n",
      "Its\n",
      "Limits\n"
     ]
    }
   ],
   "source": [
    "s = 'the difference between stupidity and genius is that stupidity has its limits'\n",
    "print(s.partition(' '))\n",
    "for w in s.split():\n",
    "    w=w.capitalize()\n",
    "    print(w)"
   ]
  },
  {
   "cell_type": "code",
   "execution_count": 56,
   "metadata": {},
   "outputs": [
    {
     "name": "stdout",
     "output_type": "stream",
     "text": [
      "trapoete\n"
     ]
    }
   ],
   "source": [
    "s = 'threadproperties'\n",
    "print(s[::2]) #[start:stop:step]"
   ]
  },
  {
   "cell_type": "code",
   "execution_count": 63,
   "metadata": {},
   "outputs": [
    {
     "name": "stdout",
     "output_type": "stream",
     "text": [
      "35\n",
      "False\n",
      "0\n"
     ]
    }
   ],
   "source": [
    "a=40\n",
    "b=30\n",
    "x=75 and a>=20 and b<60 and 35\n",
    "y = -30 and a >=20 and b<15 and 35\n",
    "z=-30 and a>=20 and 0 and 35\n",
    "print(x)\n",
    "print(y)\n",
    "print(z)"
   ]
  },
  {
   "cell_type": "code",
   "execution_count": 64,
   "metadata": {},
   "outputs": [
    {
     "name": "stdout",
     "output_type": "stream",
     "text": [
      "75\n",
      "True\n",
      "35\n"
     ]
    }
   ],
   "source": [
    "a = 40\n",
    "b = 30\n",
    "x = 75 or a>=20 or 60\n",
    "y = a>=20 or 75 or 60\n",
    "z = a<20 or 0 or 35\n",
    "print(x)\n",
    "print(y)\n",
    "print(z)"
   ]
  },
  {
   "cell_type": "code",
   "execution_count": 68,
   "metadata": {},
   "outputs": [
    {
     "data": {
      "text/plain": [
       "False"
      ]
     },
     "execution_count": 68,
     "metadata": {},
     "output_type": "execute_result"
    }
   ],
   "source": [
    "a=10\n",
    "b=20\n",
    "not(a<=b)"
   ]
  },
  {
   "cell_type": "code",
   "execution_count": 67,
   "metadata": {},
   "outputs": [
    {
     "data": {
      "text/plain": [
       "True"
      ]
     },
     "execution_count": 67,
     "metadata": {},
     "output_type": "execute_result"
    }
   ],
   "source": [
    "a=10\n",
    "b=20\n",
    "not(a>=b)"
   ]
  },
  {
   "cell_type": "code",
   "execution_count": 73,
   "metadata": {},
   "outputs": [
    {
     "name": "stdout",
     "output_type": "stream",
     "text": [
      "minor\n",
      "Lets go to the room\n",
      "25\n",
      "\n",
      "prim\n"
     ]
    }
   ],
   "source": [
    "age = 15\n",
    "status = 'minor' if age < 18 else 'adult'\n",
    "print(status)\n",
    "sunny = False\n",
    "print('Lets go to the','beach' if sunny else 'room')\n",
    "humidity = 76.8\n",
    "setting = 25 if humidity > 75 else 28\n",
    "print(setting)\n",
    "print()\n",
    "\n",
    "wt = 55\n",
    "msg = 'obese' if wt > 85 else 'hefty' if wt>60 else 'prim'\n",
    "print(msg)"
   ]
  },
  {
   "cell_type": "code",
   "execution_count": 74,
   "metadata": {},
   "outputs": [
    {
     "name": "stdout",
     "output_type": "stream",
     "text": [
      "False\n",
      "True\n"
     ]
    }
   ],
   "source": [
    "a,b,c = 10,20,30\n",
    "res = all((a>5,b>20,c>15))\n",
    "print(res)\n",
    "res = any((a>5,b>20,c>15))\n",
    "print(res)"
   ]
  },
  {
   "cell_type": "code",
   "execution_count": 81,
   "metadata": {},
   "outputs": [
    {
     "name": "stdout",
     "output_type": "stream",
     "text": [
      "<class 'str'> aryan <class 'int'> 18 <class 'float'> 999999999999999.0\n"
     ]
    }
   ],
   "source": [
    "n = input('enter your name: ')\n",
    "age = int(input('Enter our age: '))\n",
    "salary = float(input('enter your salary: '))\n",
    "print(type(n),n,type(age),age,type(salary),salary)"
   ]
  },
  {
   "cell_type": "code",
   "execution_count": 2,
   "metadata": {},
   "outputs": [
    {
     "name": "stdout",
     "output_type": "stream",
     "text": [
      "total expenses are:  100.0\n"
     ]
    }
   ],
   "source": [
    "amount = int(input('Enter value of quantity: '))\n",
    "price = float(input('Enter value of price: '))\n",
    "print('total expenses are: ',amount * price - amount*0.1 if amount>1000 else amount * price)"
   ]
  },
  {
   "cell_type": "code",
   "execution_count": 4,
   "metadata": {},
   "outputs": [
    {
     "name": "stdout",
     "output_type": "stream",
     "text": [
      "Gross salary:  200.0\n"
     ]
    }
   ],
   "source": [
    "bs = int(input('Enter base salary:'))\n",
    "if bs<1500:\n",
    "    hra = bs*0.1\n",
    "    da = bs*0.9\n",
    "else:\n",
    "    hra = 500\n",
    "    da = bs*0.98\n",
    "gs = bs + hra + da\n",
    "print('Gross salary: ',gs)"
   ]
  },
  {
   "cell_type": "code",
   "execution_count": 8,
   "metadata": {},
   "outputs": [
    {
     "name": "stdout",
     "output_type": "stream",
     "text": [
      "Fail\n"
     ]
    }
   ],
   "source": [
    "marks = int(input('Enter percentage'))\n",
    "if marks>=60:\n",
    "    print('First division!')\n",
    "elif marks>=50 and marks<=59:\n",
    "    print('Second division!')\n",
    "elif marks>=40 and marks<=49:\n",
    "    print('Third division!')\n",
    "else:\n",
    "    print('Fail!')"
   ]
  },
  {
   "cell_type": "code",
   "execution_count": 9,
   "metadata": {},
   "outputs": [
    {
     "name": "stdout",
     "output_type": "stream",
     "text": [
      "Insured\n"
     ]
    }
   ],
   "source": [
    "ms = input('Are youy married?')\n",
    "gender = input('Enter sex')\n",
    "age = int(input('Enter age'))\n",
    "if (ms=='yes') or (ms == 'no' and gender == 'male' and age>30) or (ms == 'no' and  gender == 'female' and age>25):\n",
    "    print('Insured')\n",
    "else:\n",
    "    print('Not insured') "
   ]
  },
  {
   "cell_type": "code",
   "execution_count": 10,
   "metadata": {},
   "outputs": [
    {
     "name": "stdout",
     "output_type": "stream",
     "text": [
      "x and y are equal\n"
     ]
    }
   ],
   "source": [
    "x,y = 3,3.0\n",
    "print('x and y are equal' if x==y else 'x and y are not equal')"
   ]
  },
  {
   "cell_type": "code",
   "execution_count": 13,
   "metadata": {},
   "outputs": [
    {
     "name": "stdout",
     "output_type": "stream",
     "text": [
      "4 0 4 -1\n"
     ]
    }
   ],
   "source": [
    "i,j,k = 4,-1,0\n",
    "w = i or j or k\n",
    "x = i and j and k\n",
    "y = i or j and k\n",
    "z = i and j or k\n",
    "print(w,x,y,z)"
   ]
  },
  {
   "cell_type": "code",
   "execution_count": 19,
   "metadata": {},
   "outputs": [
    {
     "name": "stdout",
     "output_type": "stream",
     "text": [
      "odd\n"
     ]
    }
   ],
   "source": [
    "num = int(input('Enter number'))\n",
    "print('even' if num%2==0 else 'odd')"
   ]
  },
  {
   "cell_type": "code",
   "execution_count": 21,
   "metadata": {},
   "outputs": [
    {
     "name": "stdout",
     "output_type": "stream",
     "text": [
      "It is not a leap year\n"
     ]
    }
   ],
   "source": [
    "year = int(input('Enter year'))\n",
    "print('It is a leap year' if year%4==0 else 'It is not a leap year')"
   ]
  },
  {
   "cell_type": "code",
   "execution_count": 28,
   "metadata": {},
   "outputs": [
    {
     "name": "stdout",
     "output_type": "stream",
     "text": [
      "Shyam is youngest\n"
     ]
    }
   ],
   "source": [
    "ram = int(input('Enter age of Ram'))\n",
    "shyam = int(input('Enter age of Shyam'))\n",
    "ajay = int(input('Enter age of Ajay'))\n",
    "if ram<shyam and ram<ajay:\n",
    "    print('Ram is youngest')\n",
    "elif ajay<shyam:\n",
    "    print('Ajay is youngest')\n",
    "else:\n",
    "    print('Shyam is youngest')"
   ]
  },
  {
   "cell_type": "code",
   "execution_count": 29,
   "metadata": {},
   "outputs": [
    {
     "name": "stdout",
     "output_type": "stream",
     "text": [
      "It is a triangle\n"
     ]
    }
   ],
   "source": [
    "x = int(input('enter first angle'))\n",
    "y = int(input('enter second angle'))\n",
    "z = int(input('enter third angle'))\n",
    "print('It is a triangle' if x+y+z==180 else 'It is not a triangle')"
   ]
  },
  {
   "cell_type": "code",
   "execution_count": 33,
   "metadata": {},
   "outputs": [
    {
     "name": "stdout",
     "output_type": "stream",
     "text": [
      "34\n"
     ]
    }
   ],
   "source": [
    "'''\n",
    "import math\n",
    "num = int(input('Enter number'))\n",
    "print(math.fabs(num))//\n",
    "'''\n",
    "num = int(input('Enter number'))\n",
    "print(num*-1 if num<0 else num)"
   ]
  },
  {
   "cell_type": "code",
   "execution_count": 37,
   "metadata": {},
   "outputs": [
    {
     "name": "stdout",
     "output_type": "stream",
     "text": [
      "Area of the rectangle is greater than its perimeter\n"
     ]
    }
   ],
   "source": [
    "l = int(input('Enter lenght'))\n",
    "b = int(input('Enter breadth'))\n",
    "area = l*b\n",
    "per = 2*(l+b)\n",
    "print('Area of the rectangle is greater than its perimeter' if area>per else 'permimeter of triangle is more than its area')"
   ]
  },
  {
   "cell_type": "code",
   "execution_count": 42,
   "metadata": {},
   "outputs": [
    {
     "name": "stdout",
     "output_type": "stream",
     "text": [
      "Collinear\n"
     ]
    }
   ],
   "source": [
    "x1 = int(input('Enter coordinate of x1'))\n",
    "y1 = int(input('Enter coordinate of y1'))\n",
    "x2 = int(input('Enter coordinate of x2'))\n",
    "y2 = int(input('Enter coordinate of y2'))\n",
    "x3 = int(input('Enter coordinate of x3'))\n",
    "y3 = int(input('Enter coordinate of y3'))\n",
    "if x1==x2==x3 or y1==y2==y3:\n",
    "    print('Collinear')\n",
    "else:\n",
    "    s1 = (float(abs(y2-y1)))/(float(abs(x2-x1)))\n",
    "    s2 = (float(abs(y3-y2)))/(float(abs(x3-x2)))\n",
    "    s3 = (float(abs(y3-y1)))/(float(abs(x3-x1)))\n",
    "    print('Collinear' if s1==s2 and s2==s3 else 'Non collinear')\n"
   ]
  },
  {
   "cell_type": "code",
   "execution_count": 47,
   "metadata": {},
   "outputs": [
    {
     "name": "stdout",
     "output_type": "stream",
     "text": [
      "The point lies outside the circle\n"
     ]
    }
   ],
   "source": [
    "import math\n",
    "centrex = int(input('Enter coordinate of centre'))\n",
    "centrey = int(input('Enter abscissa of centre'))\n",
    "radius = int(input('Enter radius'))\n",
    "pointx = int(input('Enter coordinate of point'))\n",
    "pointy = int(input('Enter abscissa of point'))\n",
    "diffX=centrex-pointx\n",
    "diffy=centrey-pointy\n",
    "dist = math.sqrt(diffX * diffX + diffy * diffy)\n",
    "print('The point lies inside the circle' if dist<radius else 'The point lies outside the circle')"
   ]
  },
  {
   "cell_type": "code",
   "execution_count": 52,
   "metadata": {},
   "outputs": [
    {
     "name": "stdout",
     "output_type": "stream",
     "text": [
      "It lies on the x-axis\n"
     ]
    }
   ],
   "source": [
    "x = int(input('Enter X axis'))\n",
    "y = int(input('Enter y axis'))\n",
    "if x==y==0:\n",
    "    print('the point lies on origin')\n",
    "elif x==0 and y!=0:\n",
    "    print('It lies on the y-axis')\n",
    "elif y==0 and x!=0:\n",
    "    print('It lies on the x-axis')\n",
    "elif x>0 and y>0:\n",
    "    print('It lies in the 1st quadrant')\n",
    "elif x<0 and y>0:\n",
    "    print('It lies in the 2nd quadrant')\n",
    "elif x<0 and y<0:\n",
    "    print('It lies in the 3rd quadrant')\n",
    "elif x>0 and y<0:\n",
    "    print('It lies in the 4th quadrant')"
   ]
  },
  {
   "cell_type": "code",
   "execution_count": 63,
   "metadata": {},
   "outputs": [
    {
     "name": "stdout",
     "output_type": "stream",
     "text": [
      "Invalid\n"
     ]
    }
   ],
   "source": [
    "s1 = int(input(\"Enter lenght of first side\"))\n",
    "s2 = int(input(\"Enter lenght of second side\"))\n",
    "s3 = int(input(\"Enter lenght of third side\"))\n",
    "if s1>s2 and s1>s3:\n",
    "    print('Valid' if s2+s3>s1 else 'Invalid')\n",
    "elif s2>s3:\n",
    "    print('Valid' if s1+s3>s2 else 'Invalid')\n",
    "else:\n",
    "    print('Valid' if s1+s2>s3 else 'Invalid')"
   ]
  },
  {
   "cell_type": "code",
   "execution_count": 6,
   "metadata": {},
   "outputs": [
    {
     "name": "stdout",
     "output_type": "stream",
     "text": [
      "Right angled triangle\n"
     ]
    }
   ],
   "source": [
    "a = int(input('Enter lenght of first side'))\n",
    "b = int(input('Enter lenght of second side'))\n",
    "c = int(input('Enter lenght of third side'))\n",
    "if a==b==c:\n",
    "    print('Equilateral')\n",
    "elif a==b or b==c or c==a:\n",
    "    if a*a == b*b + c*c or b*b == a*a + c*c or c*c == a*a + b*b:\n",
    "        print('Isosceles right angled')\n",
    "    else:\n",
    "        print('Isoceles')\n",
    "else:\n",
    "    if a*a == b*b + c*c or b*b == a*a or c*c == a*a + b*b:\n",
    "        print('Right angled triangle')\n",
    "    else:\n",
    "        print('Scalene')"
   ]
  },
  {
   "cell_type": "code",
   "execution_count": 6,
   "metadata": {},
   "outputs": [
    {
     "name": "stdout",
     "output_type": "stream",
     "text": [
      "1 1\n",
      "2 4\n",
      "3 9\n",
      "4 16\n",
      "6 36\n",
      "7 49\n",
      "8 64\n",
      "9 81\n",
      "10 100\n"
     ]
    }
   ],
   "source": [
    "num = int(input('Enter a number:'))\n",
    "while num!=5:\n",
    "    print(num, num*num)\n",
    "    num = int(input('enter a number'))"
   ]
  },
  {
   "cell_type": "code",
   "execution_count": 11,
   "metadata": {},
   "outputs": [
    {
     "name": "stdout",
     "output_type": "stream",
     "text": [
      "0 M desert 10\n",
      "1 u dessert 20\n",
      "2 m to 30\n",
      "3 b too -20\n",
      "4 a lose -10\n"
     ]
    }
   ],
   "source": [
    "s = 'Mumbai'\n",
    "ist = ['desert','dessert','to','too','lose','loose']\n",
    "tpl = (10,20,30,-20,-10)\n",
    "i=0\n",
    "while i < len(tpl):\n",
    "    print(i, s[i], ist[i], tpl[i])\n",
    "    i+=1"
   ]
  },
  {
   "cell_type": "code",
   "execution_count": 12,
   "metadata": {},
   "outputs": [
    {
     "name": "stdout",
     "output_type": "stream",
     "text": [
      "l\n",
      "e\n",
      "o\n",
      "p\n",
      "a\n",
      "r\n",
      "d\n",
      "cat\n",
      "dog\n",
      "tiger\n",
      "lion\n",
      "leapard\n",
      "rose\n",
      "lily\n",
      "jasmine\n",
      "-25\n",
      "10\n",
      "20\n",
      "-10\n",
      "30\n",
      "A101\n",
      "A111\n",
      "A112\n"
     ]
    }
   ],
   "source": [
    "for char in 'leopard':\n",
    "    print(char)\n",
    "for animal in ['cat','dog','tiger','lion','leapard']:\n",
    "    print(animal)\n",
    "for flower in ('rose','lily','jasmine'):\n",
    "    print(flower)\n",
    "for num in {10,20,30,-10,-25}:\n",
    "    print(num)\n",
    "for key in {'A101': 'Rajesh', 'A111': 'Sunil','A112':'Rakesh'}:\n",
    "    print(key)"
   ]
  },
  {
   "cell_type": "code",
   "execution_count": 13,
   "metadata": {},
   "outputs": [
    {
     "name": "stdout",
     "output_type": "stream",
     "text": [
      "0 Desert\n",
      "1 dessert\n",
      "2 to\n",
      "3 too\n",
      "4 lose\n",
      "5 loose\n"
     ]
    }
   ],
   "source": [
    "list = ['Desert','dessert','to','too','lose','loose']\n",
    "for i,ele in enumerate(list):\n",
    "    print(i,ele)"
   ]
  },
  {
   "cell_type": "code",
   "execution_count": 2,
   "metadata": {},
   "outputs": [
    {
     "name": "stdout",
     "output_type": "stream",
     "text": [
      "12 is not a prime number\n"
     ]
    }
   ],
   "source": [
    "num = int(input('Enter an integer'))\n",
    "i = 2\n",
    "while i<=num -1:\n",
    "    if num%i==0:\n",
    "        print(num, 'is not a prime number')\n",
    "        break\n",
    "    i+=1\n",
    "else:\n",
    "    print(num, 'is a prime number')"
   ]
  },
  {
   "cell_type": "code",
   "execution_count": 6,
   "metadata": {},
   "outputs": [
    {
     "name": "stdout",
     "output_type": "stream",
     "text": [
      "3 is not a multiple of 10\n"
     ]
    }
   ],
   "source": [
    "for ele in [10,20,30,3,40,50]:\n",
    "    if ele%10!=0:\n",
    "        print(ele,'is not a multiple of 10')\n",
    "        break\n",
    "else:\n",
    "    print('all numbers are multiples of 10')"
   ]
  }
 ],
 "metadata": {
  "kernelspec": {
   "display_name": "Python 3",
   "language": "python",
   "name": "python3"
  },
  "language_info": {
   "codemirror_mode": {
    "name": "ipython",
    "version": 3
   },
   "file_extension": ".py",
   "mimetype": "text/x-python",
   "name": "python",
   "nbconvert_exporter": "python",
   "pygments_lexer": "ipython3",
   "version": "3.12.5"
  }
 },
 "nbformat": 4,
 "nbformat_minor": 2
}
